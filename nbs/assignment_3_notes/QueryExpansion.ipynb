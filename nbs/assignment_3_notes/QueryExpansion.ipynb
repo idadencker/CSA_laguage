{
 "cells": [
  {
   "cell_type": "code",
   "execution_count": 4,
   "metadata": {},
   "outputs": [
    {
     "name": "stdout",
     "output_type": "stream",
     "text": [
      "Defaulting to user installation because normal site-packages is not writeable\n",
      "Requirement already satisfied: pandas in /home/ucloud/.local/lib/python3.10/site-packages (2.2.1)\n",
      "Requirement already satisfied: gensim in /home/ucloud/.local/lib/python3.10/site-packages (4.3.2)\n",
      "Requirement already satisfied: numpy<2,>=1.22.4 in /home/ucloud/.local/lib/python3.10/site-packages (from pandas) (1.26.4)\n",
      "Requirement already satisfied: python-dateutil>=2.8.2 in /home/ucloud/.local/lib/python3.10/site-packages (from pandas) (2.8.2)\n",
      "Requirement already satisfied: pytz>=2020.1 in /home/ucloud/.local/lib/python3.10/site-packages (from pandas) (2024.1)\n",
      "Requirement already satisfied: tzdata>=2022.7 in /home/ucloud/.local/lib/python3.10/site-packages (from pandas) (2024.1)\n",
      "Requirement already satisfied: scipy>=1.7.0 in /home/ucloud/.local/lib/python3.10/site-packages (from gensim) (1.12.0)\n",
      "Requirement already satisfied: smart-open>=1.8.1 in /home/ucloud/.local/lib/python3.10/site-packages (from gensim) (7.0.3)\n",
      "Requirement already satisfied: six>=1.5 in /usr/lib/python3/dist-packages (from python-dateutil>=2.8.2->pandas) (1.16.0)\n",
      "Requirement already satisfied: wrapt in /home/ucloud/.local/lib/python3.10/site-packages (from smart-open>=1.8.1->gensim) (1.16.0)\n",
      "\n",
      "\u001b[1m[\u001b[0m\u001b[34;49mnotice\u001b[0m\u001b[1;39;49m]\u001b[0m\u001b[39;49m A new release of pip is available: \u001b[0m\u001b[31;49m23.3.2\u001b[0m\u001b[39;49m -> \u001b[0m\u001b[32;49m24.0\u001b[0m\n",
      "\u001b[1m[\u001b[0m\u001b[34;49mnotice\u001b[0m\u001b[1;39;49m]\u001b[0m\u001b[39;49m To update, run: \u001b[0m\u001b[32;49mpip install --upgrade pip\u001b[0m\n",
      "Note: you may need to restart the kernel to use updated packages.\n"
     ]
    }
   ],
   "source": [
    "#packages\n",
    "%pip install pandas gensim string\n",
    "\n",
    "import pandas as pd \n",
    "import gensim.downloader as api\n",
    "import argparse\n",
    "import string"
   ]
  },
  {
   "cell_type": "markdown",
   "metadata": {},
   "source": [
    "# Load in data"
   ]
  },
  {
   "cell_type": "code",
   "execution_count": 5,
   "metadata": {},
   "outputs": [],
   "source": [
    "song_data = pd.read_csv(\"../data/Spotify Million Song Dataset_exported.csv\")"
   ]
  },
  {
   "cell_type": "code",
   "execution_count": 6,
   "metadata": {},
   "outputs": [
    {
     "data": {
      "text/html": [
       "<div>\n",
       "<style scoped>\n",
       "    .dataframe tbody tr th:only-of-type {\n",
       "        vertical-align: middle;\n",
       "    }\n",
       "\n",
       "    .dataframe tbody tr th {\n",
       "        vertical-align: top;\n",
       "    }\n",
       "\n",
       "    .dataframe thead th {\n",
       "        text-align: right;\n",
       "    }\n",
       "</style>\n",
       "<table border=\"1\" class=\"dataframe\">\n",
       "  <thead>\n",
       "    <tr style=\"text-align: right;\">\n",
       "      <th></th>\n",
       "      <th>artist</th>\n",
       "      <th>song</th>\n",
       "      <th>link</th>\n",
       "      <th>text</th>\n",
       "    </tr>\n",
       "  </thead>\n",
       "  <tbody>\n",
       "    <tr>\n",
       "      <th>0</th>\n",
       "      <td>ABBA</td>\n",
       "      <td>Ahe's My Kind Of Girl</td>\n",
       "      <td>/a/abba/ahes+my+kind+of+girl_20598417.html</td>\n",
       "      <td>Look at her face, it's a wonderful face  \\nAnd...</td>\n",
       "    </tr>\n",
       "    <tr>\n",
       "      <th>1</th>\n",
       "      <td>ABBA</td>\n",
       "      <td>Andante, Andante</td>\n",
       "      <td>/a/abba/andante+andante_20002708.html</td>\n",
       "      <td>Take it easy with me, please  \\nTouch me gentl...</td>\n",
       "    </tr>\n",
       "    <tr>\n",
       "      <th>2</th>\n",
       "      <td>ABBA</td>\n",
       "      <td>As Good As New</td>\n",
       "      <td>/a/abba/as+good+as+new_20003033.html</td>\n",
       "      <td>I'll never know why I had to go  \\nWhy I had t...</td>\n",
       "    </tr>\n",
       "    <tr>\n",
       "      <th>3</th>\n",
       "      <td>ABBA</td>\n",
       "      <td>Bang</td>\n",
       "      <td>/a/abba/bang_20598415.html</td>\n",
       "      <td>Making somebody happy is a question of give an...</td>\n",
       "    </tr>\n",
       "    <tr>\n",
       "      <th>4</th>\n",
       "      <td>ABBA</td>\n",
       "      <td>Bang-A-Boomerang</td>\n",
       "      <td>/a/abba/bang+a+boomerang_20002668.html</td>\n",
       "      <td>Making somebody happy is a question of give an...</td>\n",
       "    </tr>\n",
       "    <tr>\n",
       "      <th>...</th>\n",
       "      <td>...</td>\n",
       "      <td>...</td>\n",
       "      <td>...</td>\n",
       "      <td>...</td>\n",
       "    </tr>\n",
       "    <tr>\n",
       "      <th>57645</th>\n",
       "      <td>Ziggy Marley</td>\n",
       "      <td>Good Old Days</td>\n",
       "      <td>/z/ziggy+marley/good+old+days_10198588.html</td>\n",
       "      <td>Irie days come on play  \\nLet the angels fly l...</td>\n",
       "    </tr>\n",
       "    <tr>\n",
       "      <th>57646</th>\n",
       "      <td>Ziggy Marley</td>\n",
       "      <td>Hand To Mouth</td>\n",
       "      <td>/z/ziggy+marley/hand+to+mouth_20531167.html</td>\n",
       "      <td>Power to the workers  \\nMore power  \\nPower to...</td>\n",
       "    </tr>\n",
       "    <tr>\n",
       "      <th>57647</th>\n",
       "      <td>Zwan</td>\n",
       "      <td>Come With Me</td>\n",
       "      <td>/z/zwan/come+with+me_20148981.html</td>\n",
       "      <td>all you need  \\nis something i'll believe  \\nf...</td>\n",
       "    </tr>\n",
       "    <tr>\n",
       "      <th>57648</th>\n",
       "      <td>Zwan</td>\n",
       "      <td>Desire</td>\n",
       "      <td>/z/zwan/desire_20148986.html</td>\n",
       "      <td>northern star  \\nam i frightened  \\nwhere can ...</td>\n",
       "    </tr>\n",
       "    <tr>\n",
       "      <th>57649</th>\n",
       "      <td>Zwan</td>\n",
       "      <td>Heartsong</td>\n",
       "      <td>/z/zwan/heartsong_20148991.html</td>\n",
       "      <td>come in  \\nmake yourself at home  \\ni'm a bit ...</td>\n",
       "    </tr>\n",
       "  </tbody>\n",
       "</table>\n",
       "<p>57650 rows × 4 columns</p>\n",
       "</div>"
      ],
      "text/plain": [
       "             artist                   song  \\\n",
       "0              ABBA  Ahe's My Kind Of Girl   \n",
       "1              ABBA       Andante, Andante   \n",
       "2              ABBA         As Good As New   \n",
       "3              ABBA                   Bang   \n",
       "4              ABBA       Bang-A-Boomerang   \n",
       "...             ...                    ...   \n",
       "57645  Ziggy Marley          Good Old Days   \n",
       "57646  Ziggy Marley          Hand To Mouth   \n",
       "57647          Zwan           Come With Me   \n",
       "57648          Zwan                 Desire   \n",
       "57649          Zwan              Heartsong   \n",
       "\n",
       "                                              link  \\\n",
       "0       /a/abba/ahes+my+kind+of+girl_20598417.html   \n",
       "1            /a/abba/andante+andante_20002708.html   \n",
       "2             /a/abba/as+good+as+new_20003033.html   \n",
       "3                       /a/abba/bang_20598415.html   \n",
       "4           /a/abba/bang+a+boomerang_20002668.html   \n",
       "...                                            ...   \n",
       "57645  /z/ziggy+marley/good+old+days_10198588.html   \n",
       "57646  /z/ziggy+marley/hand+to+mouth_20531167.html   \n",
       "57647           /z/zwan/come+with+me_20148981.html   \n",
       "57648                 /z/zwan/desire_20148986.html   \n",
       "57649              /z/zwan/heartsong_20148991.html   \n",
       "\n",
       "                                                    text  \n",
       "0      Look at her face, it's a wonderful face  \\nAnd...  \n",
       "1      Take it easy with me, please  \\nTouch me gentl...  \n",
       "2      I'll never know why I had to go  \\nWhy I had t...  \n",
       "3      Making somebody happy is a question of give an...  \n",
       "4      Making somebody happy is a question of give an...  \n",
       "...                                                  ...  \n",
       "57645  Irie days come on play  \\nLet the angels fly l...  \n",
       "57646  Power to the workers  \\nMore power  \\nPower to...  \n",
       "57647  all you need  \\nis something i'll believe  \\nf...  \n",
       "57648  northern star  \\nam i frightened  \\nwhere can ...  \n",
       "57649  come in  \\nmake yourself at home  \\ni'm a bit ...  \n",
       "\n",
       "[57650 rows x 4 columns]"
      ]
     },
     "execution_count": 6,
     "metadata": {},
     "output_type": "execute_result"
    }
   ],
   "source": [
    "song_data"
   ]
  },
  {
   "cell_type": "markdown",
   "metadata": {},
   "source": [
    "# Load in gensim model"
   ]
  },
  {
   "cell_type": "code",
   "execution_count": 7,
   "metadata": {},
   "outputs": [],
   "source": [
    "model = api.load(\"glove-wiki-gigaword-50\")"
   ]
  },
  {
   "cell_type": "markdown",
   "metadata": {},
   "source": [
    "# Function returning the percentage of a given artist's songs that contain the words related to search word"
   ]
  },
  {
   "cell_type": "code",
   "execution_count": null,
   "metadata": {},
   "outputs": [],
   "source": [
    "def get_artist_and_word():\n",
    "    parser= argparse.ArgumentParser(description= \"Loading and printing an array\")\n",
    "    parser.add_argument(\"--artist\", \n",
    "                        \"-a\",\n",
    "                        required= True, #must give it an input in the command \n",
    "                        help= \"put name of artist\") #help message if input is missing \n",
    "    parser.add_argument(\"--search_term\", #long form name\n",
    "                        \"-s\",#short form name,change\n",
    "                        required= True, #must give it an input in the command \n",
    "                        help= \"put a search term\") #help message if input is missing \n",
    "    args = parser.parse_args()\n",
    "    args.artist= args.artist.lower()\n",
    "    args.search_term= args.search_term.lower()\n",
    "    return args"
   ]
  },
  {
   "cell_type": "code",
   "execution_count": null,
   "metadata": {},
   "outputs": [],
   "source": [
    "def calculate_stats(args): \n",
    "    name_of_artist = args.artist\n",
    "    chosen_search_term = args.search_term\n",
    "\n",
    "    model = api.load(\"glove-wiki-gigaword-50\")\n",
    "    song_data = pd.read_csv(\"data/Spotify Million Song Dataset_exported.csv\")\n",
    "\n",
    "    similar_words_list = []\n",
    "    words = model.most_similar(chosen_search_term)\n",
    "    for word, _ in words:\n",
    "        similar_words_list.append(word)\n",
    "\n",
    "    # Remove punctuation from the 'text' column\n",
    "    song_data['text'] = song_data['text'].apply(lambda x: x.translate(str.maketrans('', '', string.punctuation)))\n",
    "        \n",
    "    artist_df = song_data[song_data['artist'].str.lower() == name_of_artist]\n",
    "\n",
    "    songs_already_counted = set()  # Set to keep track of songs already counted\n",
    "\n",
    "    n_songs_where_word_from_wordslist_appears = 0\n",
    "    for word in similar_words_list:\n",
    "        # Iterate over each song's text\n",
    "        for song_text in artist_df['text'].str.lower():\n",
    "            # Check if the word appears in the song and if the song hasn't been counted yet\n",
    "            if word in song_text and song_text not in songs_already_counted:\n",
    "                n_songs_where_word_from_wordslist_appears += 1\n",
    "                songs_already_counted.add(song_text)  # Add the song to the set to mark it as counted\n",
    "\n",
    "    total_n_songs_for_artist = len(artist_df)\n",
    "\n",
    "    percentage = round(((n_songs_where_word_from_wordslist_appears / total_n_songs_for_artist) * 100),2)\n",
    "\n",
    "    return name_of_artist, chosen_search_term, percentage"
   ]
  },
  {
   "cell_type": "code",
   "execution_count": null,
   "metadata": {},
   "outputs": [],
   "source": [
    "def main():\n",
    "    #call args fuction \n",
    "    args= get_artist_and_word()\n",
    "    #function for calculation stuff\n",
    "    name_of_arist, chosen_search_term, percentage= calculate_stats(args)\n",
    "    print(f\"{percentage}% of {name_of_arist}'s songs contain words related to {chosen_search_term}\")\n",
    "    \n"
   ]
  },
  {
   "cell_type": "markdown",
   "metadata": {},
   "source": [
    "# check by doing something like"
   ]
  },
  {
   "cell_type": "code",
   "execution_count": 37,
   "metadata": {},
   "outputs": [
    {
     "data": {
      "text/plain": [
       "'Taylor Swift'"
      ]
     },
     "execution_count": 37,
     "metadata": {},
     "output_type": "execute_result"
    }
   ],
   "source": [
    "name_of_arist"
   ]
  },
  {
   "cell_type": "code",
   "execution_count": 38,
   "metadata": {},
   "outputs": [
    {
     "data": {
      "text/plain": [
       "'dog'"
      ]
     },
     "execution_count": 38,
     "metadata": {},
     "output_type": "execute_result"
    }
   ],
   "source": [
    "chosen_search_term"
   ]
  },
  {
   "cell_type": "code",
   "execution_count": 39,
   "metadata": {},
   "outputs": [
    {
     "data": {
      "text/plain": [
       "['cat',\n",
       " 'dogs',\n",
       " 'horse',\n",
       " 'puppy',\n",
       " 'pet',\n",
       " 'rabbit',\n",
       " 'pig',\n",
       " 'snake',\n",
       " 'baby',\n",
       " 'bite']"
      ]
     },
     "execution_count": 39,
     "metadata": {},
     "output_type": "execute_result"
    }
   ],
   "source": [
    "similar_words_list"
   ]
  },
  {
   "cell_type": "code",
   "execution_count": 40,
   "metadata": {},
   "outputs": [
    {
     "data": {
      "text/html": [
       "<div>\n",
       "<style scoped>\n",
       "    .dataframe tbody tr th:only-of-type {\n",
       "        vertical-align: middle;\n",
       "    }\n",
       "\n",
       "    .dataframe tbody tr th {\n",
       "        vertical-align: top;\n",
       "    }\n",
       "\n",
       "    .dataframe thead th {\n",
       "        text-align: right;\n",
       "    }\n",
       "</style>\n",
       "<table border=\"1\" class=\"dataframe\">\n",
       "  <thead>\n",
       "    <tr style=\"text-align: right;\">\n",
       "      <th></th>\n",
       "      <th>artist</th>\n",
       "      <th>song</th>\n",
       "      <th>link</th>\n",
       "      <th>text</th>\n",
       "    </tr>\n",
       "  </thead>\n",
       "  <tbody>\n",
       "    <tr>\n",
       "      <th>19137</th>\n",
       "      <td>Taylor Swift</td>\n",
       "      <td>Cold As You</td>\n",
       "      <td>/t/taylor+swift/cold+as+you_20359713.html</td>\n",
       "      <td>You have a way of coming easily to me  \\nAnd w...</td>\n",
       "    </tr>\n",
       "    <tr>\n",
       "      <th>19138</th>\n",
       "      <td>Taylor Swift</td>\n",
       "      <td>Crazier</td>\n",
       "      <td>/t/taylor+swift/crazier_20783496.html</td>\n",
       "      <td>I've never gone with the wind, just let it flo...</td>\n",
       "    </tr>\n",
       "    <tr>\n",
       "      <th>19139</th>\n",
       "      <td>Taylor Swift</td>\n",
       "      <td>Everything Has Changed</td>\n",
       "      <td>/t/taylor+swift/everything+has+changed_2106343...</td>\n",
       "      <td>All I knew this morning when I woke  \\nIs I kn...</td>\n",
       "    </tr>\n",
       "    <tr>\n",
       "      <th>19140</th>\n",
       "      <td>Taylor Swift</td>\n",
       "      <td>Fifteen</td>\n",
       "      <td>/t/taylor+swift/fifteen_20766168.html</td>\n",
       "      <td>You take a deep breath  \\nAnd you walk through...</td>\n",
       "    </tr>\n",
       "    <tr>\n",
       "      <th>19141</th>\n",
       "      <td>Taylor Swift</td>\n",
       "      <td>Hey Stephen</td>\n",
       "      <td>/t/taylor+swift/hey+stephen_20758965.html</td>\n",
       "      <td>Hey Stephen, I know looks can be deceiving  \\n...</td>\n",
       "    </tr>\n",
       "    <tr>\n",
       "      <th>...</th>\n",
       "      <td>...</td>\n",
       "      <td>...</td>\n",
       "      <td>...</td>\n",
       "      <td>...</td>\n",
       "    </tr>\n",
       "    <tr>\n",
       "      <th>52781</th>\n",
       "      <td>Taylor Swift</td>\n",
       "      <td>Tim McGraw</td>\n",
       "      <td>/t/taylor+swift/tim+mcgraw_20359673.html</td>\n",
       "      <td>He said the way my blue eyes shined  \\nPut tho...</td>\n",
       "    </tr>\n",
       "    <tr>\n",
       "      <th>52782</th>\n",
       "      <td>Taylor Swift</td>\n",
       "      <td>Today Was A Fairytale</td>\n",
       "      <td>/t/taylor+swift/today+was+a+fairytale_20761546...</td>\n",
       "      <td>Today was a fairytale  \\nYou were the prince  ...</td>\n",
       "    </tr>\n",
       "    <tr>\n",
       "      <th>52783</th>\n",
       "      <td>Taylor Swift</td>\n",
       "      <td>White Christmas</td>\n",
       "      <td>/t/taylor+swift/white+christmas_20658358.html</td>\n",
       "      <td>I'm dreaming of a white Christmas  \\nJust like...</td>\n",
       "    </tr>\n",
       "    <tr>\n",
       "      <th>52784</th>\n",
       "      <td>Taylor Swift</td>\n",
       "      <td>White Horse</td>\n",
       "      <td>/t/taylor+swift/white+horse_20761227.html</td>\n",
       "      <td>Say you're sorry  \\nThat face of an angel  \\nC...</td>\n",
       "    </tr>\n",
       "    <tr>\n",
       "      <th>52785</th>\n",
       "      <td>Taylor Swift</td>\n",
       "      <td>Wildest Dreams</td>\n",
       "      <td>/t/taylor+swift/wildest+dreams_21089668.html</td>\n",
       "      <td>He said, \"Let's get out of this town,  \\nDrive...</td>\n",
       "    </tr>\n",
       "  </tbody>\n",
       "</table>\n",
       "<p>81 rows × 4 columns</p>\n",
       "</div>"
      ],
      "text/plain": [
       "             artist                    song  \\\n",
       "19137  Taylor Swift             Cold As You   \n",
       "19138  Taylor Swift                 Crazier   \n",
       "19139  Taylor Swift  Everything Has Changed   \n",
       "19140  Taylor Swift                 Fifteen   \n",
       "19141  Taylor Swift             Hey Stephen   \n",
       "...             ...                     ...   \n",
       "52781  Taylor Swift              Tim McGraw   \n",
       "52782  Taylor Swift   Today Was A Fairytale   \n",
       "52783  Taylor Swift         White Christmas   \n",
       "52784  Taylor Swift             White Horse   \n",
       "52785  Taylor Swift          Wildest Dreams   \n",
       "\n",
       "                                                    link  \\\n",
       "19137          /t/taylor+swift/cold+as+you_20359713.html   \n",
       "19138              /t/taylor+swift/crazier_20783496.html   \n",
       "19139  /t/taylor+swift/everything+has+changed_2106343...   \n",
       "19140              /t/taylor+swift/fifteen_20766168.html   \n",
       "19141          /t/taylor+swift/hey+stephen_20758965.html   \n",
       "...                                                  ...   \n",
       "52781           /t/taylor+swift/tim+mcgraw_20359673.html   \n",
       "52782  /t/taylor+swift/today+was+a+fairytale_20761546...   \n",
       "52783      /t/taylor+swift/white+christmas_20658358.html   \n",
       "52784          /t/taylor+swift/white+horse_20761227.html   \n",
       "52785       /t/taylor+swift/wildest+dreams_21089668.html   \n",
       "\n",
       "                                                    text  \n",
       "19137  You have a way of coming easily to me  \\nAnd w...  \n",
       "19138  I've never gone with the wind, just let it flo...  \n",
       "19139  All I knew this morning when I woke  \\nIs I kn...  \n",
       "19140  You take a deep breath  \\nAnd you walk through...  \n",
       "19141  Hey Stephen, I know looks can be deceiving  \\n...  \n",
       "...                                                  ...  \n",
       "52781  He said the way my blue eyes shined  \\nPut tho...  \n",
       "52782  Today was a fairytale  \\nYou were the prince  ...  \n",
       "52783  I'm dreaming of a white Christmas  \\nJust like...  \n",
       "52784  Say you're sorry  \\nThat face of an angel  \\nC...  \n",
       "52785  He said, \"Let's get out of this town,  \\nDrive...  \n",
       "\n",
       "[81 rows x 4 columns]"
      ]
     },
     "execution_count": 40,
     "metadata": {},
     "output_type": "execute_result"
    }
   ],
   "source": [
    "artist_df"
   ]
  },
  {
   "cell_type": "code",
   "execution_count": 41,
   "metadata": {},
   "outputs": [
    {
     "data": {
      "text/plain": [
       "81"
      ]
     },
     "execution_count": 41,
     "metadata": {},
     "output_type": "execute_result"
    }
   ],
   "source": [
    "total_n_song_for_artist"
   ]
  },
  {
   "cell_type": "code",
   "execution_count": 42,
   "metadata": {},
   "outputs": [
    {
     "data": {
      "text/plain": [
       "26"
      ]
     },
     "execution_count": 42,
     "metadata": {},
     "output_type": "execute_result"
    }
   ],
   "source": [
    "n_songs_where_word_from_wordslist_appears"
   ]
  },
  {
   "cell_type": "code",
   "execution_count": 43,
   "metadata": {},
   "outputs": [
    {
     "data": {
      "text/plain": [
       "32.098765432098766"
      ]
     },
     "execution_count": 43,
     "metadata": {},
     "output_type": "execute_result"
    }
   ],
   "source": [
    "percentage"
   ]
  }
 ],
 "metadata": {
  "kernelspec": {
   "display_name": "Python 3",
   "language": "python",
   "name": "python3"
  },
  "language_info": {
   "codemirror_mode": {
    "name": "ipython",
    "version": 3
   },
   "file_extension": ".py",
   "mimetype": "text/x-python",
   "name": "python",
   "nbconvert_exporter": "python",
   "pygments_lexer": "ipython3",
   "version": "3.10.12"
  }
 },
 "nbformat": 4,
 "nbformat_minor": 2
}
